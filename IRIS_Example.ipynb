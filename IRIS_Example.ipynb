{
  "nbformat": 4,
  "nbformat_minor": 0,
  "metadata": {
    "colab": {
      "name": "IRIS_Example.ipynb",
      "provenance": [],
      "collapsed_sections": [],
      "include_colab_link": true
    },
    "kernelspec": {
      "name": "python3",
      "display_name": "Python 3"
    }
  },
  "cells": [
    {
      "cell_type": "markdown",
      "metadata": {
        "id": "view-in-github",
        "colab_type": "text"
      },
      "source": [
        "<a href=\"https://colab.research.google.com/github/cs-giung/course-ml-TP/blob/master/IRIS_Example.ipynb\" target=\"_parent\"><img src=\"https://colab.research.google.com/assets/colab-badge.svg\" alt=\"Open In Colab\"/></a>"
      ]
    },
    {
      "cell_type": "code",
      "metadata": {
        "id": "LnPzSSvgsFWy",
        "colab_type": "code",
        "colab": {}
      },
      "source": [
        "import time\n",
        "import numpy as np\n",
        "import pandas as pd\n",
        "import matplotlib.pyplot as plt\n",
        "from statistics import median\n",
        "from sklearn.decomposition import PCA\n",
        "from sklearn.linear_model import LogisticRegression\n",
        "\n",
        "# np.random.seed(0)"
      ],
      "execution_count": 0,
      "outputs": []
    },
    {
      "cell_type": "markdown",
      "metadata": {
        "id": "Wgfhl4ijr55c",
        "colab_type": "text"
      },
      "source": [
        "### Dataset : IRIS"
      ]
    },
    {
      "cell_type": "code",
      "metadata": {
        "id": "hCho8mEvrmfD",
        "colab_type": "code",
        "colab": {}
      },
      "source": [
        "# 데이터셋 불러오기\n",
        "url = 'https://archive.ics.uci.edu/ml/machine-learning-databases/iris/iris.data'\n",
        "attributes = ['sepal_length', 'sepal_width', 'petal_length', 'petal_width', 'iris_class']\n",
        "dataset = pd.read_csv(url, names=attributes, skiprows=0, delimiter=',')"
      ],
      "execution_count": 0,
      "outputs": []
    },
    {
      "cell_type": "code",
      "metadata": {
        "id": "V9Q0a0KBsMSw",
        "colab_type": "code",
        "colab": {}
      },
      "source": [
        "# 데이터셋 적절히 수정하기\n",
        "name2ind = {'Iris-setosa':0, 'Iris-versicolor':1, 'Iris-virginica':2}\n",
        "ind2name = {0:'Iris-setosa', 1:'Iris-versicolor', 2:'Iris-virginica'}\n",
        "dataset['iris_class'] = [name2ind[e] for e in dataset['iris_class']]"
      ],
      "execution_count": 0,
      "outputs": []
    },
    {
      "cell_type": "code",
      "metadata": {
        "id": "VJQ_lXX8sBQM",
        "colab_type": "code",
        "outputId": "8f367761-d11b-49d5-ff04-56be0436890d",
        "colab": {
          "base_uri": "https://localhost:8080/",
          "height": 419
        }
      },
      "source": [
        "# 데이터셋 훑어보기\n",
        "print([len(dataset[dataset['iris_class'] == i]) for i in range(3)])\n",
        "dataset"
      ],
      "execution_count": 4,
      "outputs": [
        {
          "output_type": "stream",
          "text": [
            "[50, 50, 50]\n"
          ],
          "name": "stdout"
        },
        {
          "output_type": "execute_result",
          "data": {
            "text/html": [
              "<div>\n",
              "<style scoped>\n",
              "    .dataframe tbody tr th:only-of-type {\n",
              "        vertical-align: middle;\n",
              "    }\n",
              "\n",
              "    .dataframe tbody tr th {\n",
              "        vertical-align: top;\n",
              "    }\n",
              "\n",
              "    .dataframe thead th {\n",
              "        text-align: right;\n",
              "    }\n",
              "</style>\n",
              "<table border=\"1\" class=\"dataframe\">\n",
              "  <thead>\n",
              "    <tr style=\"text-align: right;\">\n",
              "      <th></th>\n",
              "      <th>sepal_length</th>\n",
              "      <th>sepal_width</th>\n",
              "      <th>petal_length</th>\n",
              "      <th>petal_width</th>\n",
              "      <th>iris_class</th>\n",
              "    </tr>\n",
              "  </thead>\n",
              "  <tbody>\n",
              "    <tr>\n",
              "      <th>0</th>\n",
              "      <td>5.1</td>\n",
              "      <td>3.5</td>\n",
              "      <td>1.4</td>\n",
              "      <td>0.2</td>\n",
              "      <td>0</td>\n",
              "    </tr>\n",
              "    <tr>\n",
              "      <th>1</th>\n",
              "      <td>4.9</td>\n",
              "      <td>3.0</td>\n",
              "      <td>1.4</td>\n",
              "      <td>0.2</td>\n",
              "      <td>0</td>\n",
              "    </tr>\n",
              "    <tr>\n",
              "      <th>2</th>\n",
              "      <td>4.7</td>\n",
              "      <td>3.2</td>\n",
              "      <td>1.3</td>\n",
              "      <td>0.2</td>\n",
              "      <td>0</td>\n",
              "    </tr>\n",
              "    <tr>\n",
              "      <th>3</th>\n",
              "      <td>4.6</td>\n",
              "      <td>3.1</td>\n",
              "      <td>1.5</td>\n",
              "      <td>0.2</td>\n",
              "      <td>0</td>\n",
              "    </tr>\n",
              "    <tr>\n",
              "      <th>4</th>\n",
              "      <td>5.0</td>\n",
              "      <td>3.6</td>\n",
              "      <td>1.4</td>\n",
              "      <td>0.2</td>\n",
              "      <td>0</td>\n",
              "    </tr>\n",
              "    <tr>\n",
              "      <th>...</th>\n",
              "      <td>...</td>\n",
              "      <td>...</td>\n",
              "      <td>...</td>\n",
              "      <td>...</td>\n",
              "      <td>...</td>\n",
              "    </tr>\n",
              "    <tr>\n",
              "      <th>145</th>\n",
              "      <td>6.7</td>\n",
              "      <td>3.0</td>\n",
              "      <td>5.2</td>\n",
              "      <td>2.3</td>\n",
              "      <td>2</td>\n",
              "    </tr>\n",
              "    <tr>\n",
              "      <th>146</th>\n",
              "      <td>6.3</td>\n",
              "      <td>2.5</td>\n",
              "      <td>5.0</td>\n",
              "      <td>1.9</td>\n",
              "      <td>2</td>\n",
              "    </tr>\n",
              "    <tr>\n",
              "      <th>147</th>\n",
              "      <td>6.5</td>\n",
              "      <td>3.0</td>\n",
              "      <td>5.2</td>\n",
              "      <td>2.0</td>\n",
              "      <td>2</td>\n",
              "    </tr>\n",
              "    <tr>\n",
              "      <th>148</th>\n",
              "      <td>6.2</td>\n",
              "      <td>3.4</td>\n",
              "      <td>5.4</td>\n",
              "      <td>2.3</td>\n",
              "      <td>2</td>\n",
              "    </tr>\n",
              "    <tr>\n",
              "      <th>149</th>\n",
              "      <td>5.9</td>\n",
              "      <td>3.0</td>\n",
              "      <td>5.1</td>\n",
              "      <td>1.8</td>\n",
              "      <td>2</td>\n",
              "    </tr>\n",
              "  </tbody>\n",
              "</table>\n",
              "<p>150 rows × 5 columns</p>\n",
              "</div>"
            ],
            "text/plain": [
              "     sepal_length  sepal_width  petal_length  petal_width  iris_class\n",
              "0             5.1          3.5           1.4          0.2           0\n",
              "1             4.9          3.0           1.4          0.2           0\n",
              "2             4.7          3.2           1.3          0.2           0\n",
              "3             4.6          3.1           1.5          0.2           0\n",
              "4             5.0          3.6           1.4          0.2           0\n",
              "..            ...          ...           ...          ...         ...\n",
              "145           6.7          3.0           5.2          2.3           2\n",
              "146           6.3          2.5           5.0          1.9           2\n",
              "147           6.5          3.0           5.2          2.0           2\n",
              "148           6.2          3.4           5.4          2.3           2\n",
              "149           5.9          3.0           5.1          1.8           2\n",
              "\n",
              "[150 rows x 5 columns]"
            ]
          },
          "metadata": {
            "tags": []
          },
          "execution_count": 4
        }
      ]
    },
    {
      "cell_type": "markdown",
      "metadata": {
        "id": "kPCwPiaA7j2b",
        "colab_type": "text"
      },
      "source": [
        "# Experiment \\#1 : FFS with Accuracy"
      ]
    },
    {
      "cell_type": "code",
      "metadata": {
        "id": "HKsrIh0N8usJ",
        "colab_type": "code",
        "outputId": "e12f4487-268e-4eb5-ac7f-6f465bef0cbd",
        "colab": {
          "base_uri": "https://localhost:8080/",
          "height": 708
        }
      },
      "source": [
        "performance = dict()\n",
        "timecomplex = dict()\n",
        "\n",
        "for t in range(50):\n",
        "    print('%3d' % t, end='')\n",
        "\n",
        "    # construct dataset randomly\n",
        "    shuffled_dataset = dataset.sample(len(dataset))\n",
        "    train_dataset = shuffled_dataset[:int(len(dataset) * 0.8)]\n",
        "    valid_dataset = shuffled_dataset[int(len(dataset) * 0.8):]\n",
        "\n",
        "    # start with empty set\n",
        "    s_feats = []\n",
        "\n",
        "    while len(s_feats) < len(attributes) - 1:\n",
        "        best_acc = 0\n",
        "        new_feat = None\n",
        "        \n",
        "        for feat in attributes[:-1]:\n",
        "\n",
        "            if feat in s_feats:\n",
        "                continue\n",
        "            tmp_feats = s_feats + [feat]\n",
        "\n",
        "            train_X = train_dataset.drop(attributes[-1], axis=1)\n",
        "            train_Y = train_dataset.drop(attributes[:-1], axis=1)\n",
        "            train_X = train_X[tmp_feats].values\n",
        "            train_Y = train_Y.values.reshape(-1)\n",
        "\n",
        "            valid_X = valid_dataset.drop(attributes[-1], axis=1)\n",
        "            valid_Y = valid_dataset.drop(attributes[:-1], axis=1)\n",
        "            valid_X = valid_X[tmp_feats].values\n",
        "            valid_Y = valid_Y.values.reshape(-1)\n",
        "\n",
        "            s_time = time.time()\n",
        "            lr = LogisticRegression(solver='lbfgs', max_iter=1000, multi_class='multinomial')\n",
        "            lr.fit(train_X, train_Y)\n",
        "            f_time = time.time()\n",
        "            time_cost = f_time - s_time\n",
        "\n",
        "            valid_Y_pred = lr.predict(valid_X)\n",
        "            valid_acc = (valid_Y == valid_Y_pred).sum() / len(valid_Y == valid_Y_pred)\n",
        "\n",
        "            # determine best one\n",
        "            if valid_acc > best_acc:\n",
        "                best_acc = valid_acc\n",
        "                new_feat = feat\n",
        "\n",
        "        s_feats += [new_feat]\n",
        "        n = len(s_feats)\n",
        "\n",
        "        if n not in performance:\n",
        "            performance[n] = []\n",
        "        \n",
        "        if n not in timecomplex:\n",
        "            timecomplex[n] = []\n",
        "\n",
        "        performance[n].append(valid_acc)\n",
        "        timecomplex[n].append(time_cost)\n",
        "\n",
        "\n",
        "boxplot_data = [performance[i] for i in performance]\n",
        "fig, ax = plt.subplots(figsize=(8,5))\n",
        "ax.set_title('Performance Plot')\n",
        "ax.boxplot(boxplot_data)\n",
        "plt.show()\n",
        "\n",
        "for i in performance:\n",
        "    print(median(performance[i]), end=', ')\n",
        "\n",
        "\n",
        "boxplot_data = [timecomplex[i] for i in timecomplex]\n",
        "fig, ax = plt.subplots(figsize=(8,5))\n",
        "ax.set_title('Computational Cost Plot')\n",
        "ax.boxplot(boxplot_data, showfliers=False)\n",
        "plt.show()\n",
        "\n",
        "for i in timecomplex:\n",
        "    print(median(timecomplex[i]), end=', ')"
      ],
      "execution_count": 5,
      "outputs": [
        {
          "output_type": "stream",
          "text": [
            "  0  1  2  3  4  5  6  7  8  9 10 11 12 13 14 15 16 17 18 19 20 21 22 23 24 25 26 27 28 29 30 31 32 33 34 35 36 37 38 39 40 41 42 43 44 45 46 47 48 49"
          ],
          "name": "stdout"
        },
        {
          "output_type": "display_data",
          "data": {
            "image/png": "[encoded data removed]",
            "text/plain": [
              "<Figure size 576x360 with 1 Axes>"
            ]
          },
          "metadata": {
            "tags": []
          }
        },
        {
          "output_type": "stream",
          "text": [
            "0.9666666666666667, 0.9666666666666667, 0.9666666666666667, 0.9666666666666667, "
          ],
          "name": "stdout"
        },
        {
          "output_type": "display_data",
          "data": {
            "image/png": "[encoded data removed]",
            "text/plain": [
              "<Figure size 576x360 with 1 Axes>"
            ]
          },
          "metadata": {
            "tags": []
          }
        },
        {
          "output_type": "stream",
          "text": [
            "0.004539012908935547, 0.008738875389099121, 0.016675233840942383, 0.024164319038391113, "
          ],
          "name": "stdout"
        }
      ]
    },
    {
      "cell_type": "markdown",
      "metadata": {
        "id": "HU48tKix8tWp",
        "colab_type": "text"
      },
      "source": [
        "# Experiment \\#2 : BFE with Correlation"
      ]
    },
    {
      "cell_type": "code",
      "metadata": {
        "id": "MgZT7G66LM9B",
        "colab_type": "code",
        "outputId": "89107e26-7669-4bb9-bd4b-a57b35278b00",
        "colab": {
          "base_uri": "https://localhost:8080/",
          "height": 708
        }
      },
      "source": [
        "performance = dict()\n",
        "timecomplex = dict()\n",
        "\n",
        "for t in range(50):\n",
        "    print('%3d' % t, end='')\n",
        "\n",
        "    # construct dataset randomly\n",
        "    shuffled_dataset = dataset.sample(len(dataset))\n",
        "    train_dataset = shuffled_dataset[:int(len(dataset) * 0.8)]\n",
        "    valid_dataset = shuffled_dataset[int(len(dataset) * 0.8):]\n",
        "\n",
        "    # drop feature & train model\n",
        "    train_X = train_dataset.drop(attributes[-1], axis=1)\n",
        "    valid_X = valid_dataset.drop(attributes[-1], axis=1)\n",
        "    train_Y = train_dataset.drop(attributes[:-1], axis=1).values.reshape(-1)\n",
        "    valid_Y = valid_dataset.drop(attributes[:-1], axis=1).values.reshape(-1)\n",
        "\n",
        "    feat_rank = attributes[:-1].copy()\n",
        "    while True:\n",
        "\n",
        "        # train model\n",
        "        s_time = time.time()\n",
        "        lr = LogisticRegression(solver='lbfgs', max_iter=1000, multi_class='multinomial')\n",
        "        lr.fit(train_X.values, train_Y)\n",
        "        f_time = time.time()\n",
        "        time_cost = f_time - s_time\n",
        "\n",
        "        valid_Y_pred = lr.predict(valid_X.values)\n",
        "        valid_acc = (valid_Y == valid_Y_pred).sum() / len(valid_Y == valid_Y_pred)\n",
        "\n",
        "        n = len(feat_rank)\n",
        "\n",
        "        if n not in performance:\n",
        "            performance[n] = []\n",
        "        \n",
        "        if n not in timecomplex:\n",
        "            timecomplex[n] = []\n",
        "\n",
        "        performance[n].append(valid_acc)\n",
        "        timecomplex[n].append(time_cost)\n",
        "\n",
        "        # rank features with correlation\n",
        "        corr = train_X.corr()\n",
        "        corr[np.isnan(corr)] = 0\n",
        "        corr_vals = []\n",
        "        corr_rank = []\n",
        "        for feat in feat_rank:\n",
        "            corr_vals += [abs(corr[feat]).sum()]\n",
        "            corr_rank += [feat]\n",
        "        feat_rank = list(list(zip(*(sorted(zip(corr_vals, corr_rank)))))[1])\n",
        "\n",
        "        # reduct features\n",
        "        feat_rank = feat_rank[:-1]\n",
        "        train_X = train_X[feat_rank]\n",
        "        valid_X = valid_X[feat_rank]\n",
        "\n",
        "        if len(feat_rank) == 0:\n",
        "            break\n",
        "\n",
        "\n",
        "\n",
        "boxplot_data = [performance[i] for i in sorted(list(performance.keys()))]\n",
        "fig, ax = plt.subplots(figsize=(8,5))\n",
        "ax.set_title('Performance Plot')\n",
        "ax.boxplot(boxplot_data)\n",
        "plt.show()\n",
        "\n",
        "for i in sorted(list(performance.keys())):\n",
        "    print(median(performance[i]), end=', ')\n",
        "\n",
        "\n",
        "boxplot_data = [timecomplex[i] for i in sorted(list(timecomplex.keys()))]\n",
        "fig, ax = plt.subplots(figsize=(8,5))\n",
        "ax.set_title('Computational Cost Plot')\n",
        "ax.boxplot(boxplot_data, showfliers=False)\n",
        "plt.show()\n",
        "\n",
        "for i in sorted(list(timecomplex.keys())):\n",
        "    print(median(timecomplex[i]), end=', ')"
      ],
      "execution_count": 6,
      "outputs": [
        {
          "output_type": "stream",
          "text": [
            "  0  1  2  3  4  5  6  7  8  9 10 11 12 13 14 15 16 17 18 19 20 21 22 23 24 25 26 27 28 29 30 31 32 33 34 35 36 37 38 39 40 41 42 43 44 45 46 47 48 49"
          ],
          "name": "stdout"
        },
        {
          "output_type": "display_data",
          "data": {
            "image/png": "[encoded data removed]",
            "text/plain": [
              "<Figure size 576x360 with 1 Axes>"
            ]
          },
          "metadata": {
            "tags": []
          }
        },
        {
          "output_type": "stream",
          "text": [
            "0.7333333333333333, 0.8, 0.9666666666666667, 0.9666666666666667, "
          ],
          "name": "stdout"
        },
        {
          "output_type": "display_data",
          "data": {
            "image/png": "[encoded data removed]",
            "text/plain": [
              "<Figure size 576x360 with 1 Axes>"
            ]
          },
          "metadata": {
            "tags": []
          }
        },
        {
          "output_type": "stream",
          "text": [
            "0.007271409034729004, 0.012320995330810547, 0.0202866792678833, 0.024700522422790527, "
          ],
          "name": "stdout"
        }
      ]
    },
    {
      "cell_type": "markdown",
      "metadata": {
        "id": "7gnChmXv-Mco",
        "colab_type": "text"
      },
      "source": [
        "# Experiment \\#3 : PCA"
      ]
    },
    {
      "cell_type": "code",
      "metadata": {
        "id": "cgV1DrlDtJrB",
        "colab_type": "code",
        "outputId": "b4a66eb1-7603-4182-e646-a59b7c1b6b10",
        "colab": {
          "base_uri": "https://localhost:8080/",
          "height": 708
        }
      },
      "source": [
        "performance = dict()\n",
        "timecomplex = dict()\n",
        "\n",
        "for t in range(50):\n",
        "    print('%3d' % t, end='')\n",
        "\n",
        "    # construct dataset randomly\n",
        "    shuffled_dataset = dataset.sample(len(dataset))\n",
        "    train_dataset = shuffled_dataset[:int(len(dataset) * 0.8)]\n",
        "    valid_dataset = shuffled_dataset[int(len(dataset) * 0.8):]\n",
        "\n",
        "    train_X = train_dataset.drop(attributes[-1], axis=1).values\n",
        "    train_Y = train_dataset.drop(attributes[:-1], axis=1).values.reshape(-1)\n",
        "\n",
        "    valid_X = valid_dataset.drop(attributes[-1], axis=1).values\n",
        "    valid_Y = valid_dataset.drop(attributes[:-1], axis=1).values.reshape(-1)\n",
        "\n",
        "    # pca data & train model\n",
        "    num_feats = np.arange(1, len(attributes), 1)\n",
        "\n",
        "    for n in num_feats:\n",
        "        pca = PCA(n_components=n)\n",
        "        pca.fit(train_X)\n",
        "        train_X_pca = pca.transform(train_X)\n",
        "        valid_X_pca = pca.transform(valid_X)\n",
        "\n",
        "        s_time = time.time()\n",
        "        lr = LogisticRegression(solver='lbfgs', max_iter=1000, multi_class='multinomial')\n",
        "        lr.fit(train_X_pca, train_Y)\n",
        "        f_time = time.time()\n",
        "        time_cost = f_time - s_time\n",
        "\n",
        "        valid_Y_pred = lr.predict(valid_X_pca)\n",
        "        valid_acc = (valid_Y == valid_Y_pred).sum() / len(valid_Y == valid_Y_pred)\n",
        "\n",
        "        if n not in performance:\n",
        "            performance[n] = []\n",
        "        \n",
        "        if n not in timecomplex:\n",
        "            timecomplex[n] = []\n",
        "\n",
        "        performance[n].append(valid_acc)\n",
        "        timecomplex[n].append(time_cost)\n",
        "\n",
        "\n",
        "boxplot_data = [performance[i] for i in performance]\n",
        "fig, ax = plt.subplots(figsize=(8,5))\n",
        "ax.set_title('Performance Plot')\n",
        "ax.boxplot(boxplot_data)\n",
        "plt.show()\n",
        "\n",
        "for i in performance:\n",
        "    print(median(performance[i]), end=', ')\n",
        "\n",
        "\n",
        "boxplot_data = [timecomplex[i] for i in timecomplex]\n",
        "fig, ax = plt.subplots(figsize=(8,5))\n",
        "ax.set_title('Computational Cost Plot')\n",
        "ax.boxplot(boxplot_data, showfliers=False)\n",
        "plt.show()\n",
        "\n",
        "for i in timecomplex:\n",
        "    print(median(timecomplex[i]), end=', ')"
      ],
      "execution_count": 7,
      "outputs": [
        {
          "output_type": "stream",
          "text": [
            "  0  1  2  3  4  5  6  7  8  9 10 11 12 13 14 15 16 17 18 19 20 21 22 23 24 25 26 27 28 29 30 31 32 33 34 35 36 37 38 39 40 41 42 43 44 45 46 47 48 49"
          ],
          "name": "stdout"
        },
        {
          "output_type": "display_data",
          "data": {
            "image/png": "[encoded data removed]",
            "text/plain": [
              "<Figure size 576x360 with 1 Axes>"
            ]
          },
          "metadata": {
            "tags": []
          }
        },
        {
          "output_type": "stream",
          "text": [
            "0.9333333333333333, 0.9666666666666667, 0.9666666666666667, 0.9666666666666667, "
          ],
          "name": "stdout"
        },
        {
          "output_type": "display_data",
          "data": {
            "image/png": "[encoded data removed]",
            "text/plain": [
              "<Figure size 576x360 with 1 Axes>"
            ]
          },
          "metadata": {
            "tags": []
          }
        },
        {
          "output_type": "stream",
          "text": [
            "0.005578756332397461, 0.005975961685180664, 0.006471037864685059, 0.0067901611328125, "
          ],
          "name": "stdout"
        }
      ]
    }
  ]
}